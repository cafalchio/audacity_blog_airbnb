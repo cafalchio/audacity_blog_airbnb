{
 "cells": [
  {
   "cell_type": "markdown",
   "metadata": {},
   "source": [
    "# The effect of the pandemic on Airbnb in Dublin city"
   ]
  },
  {
   "cell_type": "markdown",
   "metadata": {},
   "source": [
    "Airbnb has been growing fast during the last years. However, during 2020 with the abrupt decrease of travelling and tourism (at least internationally) due to the covid 19 spread in the world, we should expect a significative drop in the business. \n",
    "\n",
    "The main objectives of this analysis is:\n",
    "\n",
    "    1- Determine the drop of homes avaliability in August 2020 compared to same month in 2019\n",
    "    \n",
    "    2- Compare the changes in prices from the different types of airbnb places:\n",
    "            * Full apartment / house\n",
    "            * Single room\n",
    "            * Flat\n",
    "            * Double room\n",
    "            * Cottage\n",
    "Dublin renting prices have been increasing fast in the last 5 years due to the lack of homes avaliable to rent. \n",
    "\n",
    "    3-The last objective of this analysis is to understand the contribuition of airbnb to the rent crisis in Dublin."
   ]
  },
  {
   "cell_type": "code",
   "execution_count": 1,
   "metadata": {},
   "outputs": [],
   "source": [
    "# Import libraries\n",
    "import pandas as pd\n",
    "import numpy as np\n",
    "import matplotlib.pyplot as plt\n",
    "import seaborn as sns\n",
    "from scipy import stats\n",
    "from tqdm.notebook import tqdm\n",
    "# print (plt.style.available)\n",
    "%matplotlib inline"
   ]
  },
  {
   "cell_type": "code",
   "execution_count": 2,
   "metadata": {},
   "outputs": [],
   "source": [
    "plt.style.use('seaborn-paper')"
   ]
  },
  {
   "cell_type": "markdown",
   "metadata": {},
   "source": [
    "1- Data Understanding"
   ]
  },
  {
   "cell_type": "code",
   "execution_count": 6,
   "metadata": {},
   "outputs": [],
   "source": [
    "# Data 2019\n",
    "cal_2019 = pd.read_csv('/mnt/c/Users/Cafalchio/Documents/Audacity/Dublin_august_airbnb/2019/calendar.csv', parse_dates=True)\n",
    "list_2019 = pd.read_csv('/mnt/c/Users/Cafalchio/Documents/Audacity/Dublin_august_airbnb/2019/listings.csv')\n",
    "# Data 2020\n",
    "cal_2020 = pd.read_csv('/mnt/c/Users/Cafalchio/Documents/Audacity/Dublin_august_airbnb/2020/calendar.csv')\n",
    "list_2020 = pd.read_csv('/mnt/c/Users/Cafalchio/Documents/Audacity/Dublin_august_airbnb/2020/listings.csv', parse_dates=True)"
   ]
  },
  {
   "cell_type": "code",
   "execution_count": 7,
   "metadata": {},
   "outputs": [
    {
     "name": "stdout",
     "output_type": "stream",
     "text": [
      "<class 'pandas.core.frame.DataFrame'>\n",
      "RangeIndex: 3597075 entries, 0 to 3597074\n",
      "Data columns (total 7 columns):\n",
      "listing_id        int64\n",
      "date              object\n",
      "available         object\n",
      "price             object\n",
      "adjusted_price    object\n",
      "minimum_nights    int64\n",
      "maximum_nights    int64\n",
      "dtypes: int64(3), object(4)\n",
      "memory usage: 192.1+ MB\n"
     ]
    }
   ],
   "source": [
    "cal_2019.info()"
   ]
  },
  {
   "cell_type": "code",
   "execution_count": 5,
   "metadata": {},
   "outputs": [
    {
     "name": "stdout",
     "output_type": "stream",
     "text": [
      "<class 'pandas.core.frame.DataFrame'>\n",
      "RangeIndex: 9855 entries, 0 to 9854\n",
      "Data columns (total 16 columns):\n",
      "id                                9855 non-null int64\n",
      "name                              9854 non-null object\n",
      "host_id                           9855 non-null int64\n",
      "host_name                         9854 non-null object\n",
      "neighbourhood_group               0 non-null float64\n",
      "neighbourhood                     9855 non-null object\n",
      "latitude                          9855 non-null float64\n",
      "longitude                         9855 non-null float64\n",
      "room_type                         9855 non-null object\n",
      "price                             9855 non-null int64\n",
      "minimum_nights                    9855 non-null int64\n",
      "number_of_reviews                 9855 non-null int64\n",
      "last_review                       8340 non-null object\n",
      "reviews_per_month                 8340 non-null float64\n",
      "calculated_host_listings_count    9855 non-null int64\n",
      "availability_365                  9855 non-null int64\n",
      "dtypes: float64(4), int64(7), object(5)\n",
      "memory usage: 1.2+ MB\n"
     ]
    }
   ],
   "source": [
    "list_2019.info()"
   ]
  },
  {
   "cell_type": "markdown",
   "metadata": {},
   "source": [
    "The data is composed by list and calendar files:\n",
    "\n",
    "The list file has the features of the listing, including property features, location and host information.\n",
    "\n",
    "The calendar file has repeated properties offered during the month."
   ]
  },
  {
   "cell_type": "code",
   "execution_count": 10,
   "metadata": {},
   "outputs": [
    {
     "name": "stdout",
     "output_type": "stream",
     "text": [
      "The 2019 data was collected from 2019-08-29 to 2020-08-27\n",
      "The 2020 data was collected from 2020-08-27 to 2021-08-27\n"
     ]
    }
   ],
   "source": [
    "print(f'The 2019 data was collected from {cal_2019.date.min()} to {cal_2019.date.max()}')\n",
    "print(f'The 2020 data was collected from {cal_2020.date.min()} to {cal_2020.date.max()}')"
   ]
  },
  {
   "cell_type": "code",
   "execution_count": 11,
   "metadata": {},
   "outputs": [
    {
     "name": "stdout",
     "output_type": "stream",
     "text": [
      "The number of properties listed in August 2019 was 9855\n",
      "and in 2020 was 8233, which is a 16.46% less listing in 2020.\n"
     ]
    }
   ],
   "source": [
    "print(f'The number of properties listed in August 2019 was {len(list_2019)}\\nand in 2020 was {len(list_2020)}, which is a {100*(1- len(list_2020)/len(list_2019)):.2f}% less listing in 2020.' )"
   ]
  },
  {
   "cell_type": "code",
   "execution_count": 12,
   "metadata": {},
   "outputs": [
    {
     "data": {
      "text/html": [
       "<div>\n",
       "<style scoped>\n",
       "    .dataframe tbody tr th:only-of-type {\n",
       "        vertical-align: middle;\n",
       "    }\n",
       "\n",
       "    .dataframe tbody tr th {\n",
       "        vertical-align: top;\n",
       "    }\n",
       "\n",
       "    .dataframe thead th {\n",
       "        text-align: right;\n",
       "    }\n",
       "</style>\n",
       "<table border=\"1\" class=\"dataframe\">\n",
       "  <thead>\n",
       "    <tr style=\"text-align: right;\">\n",
       "      <th></th>\n",
       "      <th>id</th>\n",
       "      <th>name</th>\n",
       "      <th>host_id</th>\n",
       "      <th>host_name</th>\n",
       "      <th>neighbourhood_group</th>\n",
       "      <th>neighbourhood</th>\n",
       "      <th>latitude</th>\n",
       "      <th>longitude</th>\n",
       "      <th>room_type</th>\n",
       "      <th>price</th>\n",
       "      <th>minimum_nights</th>\n",
       "      <th>number_of_reviews</th>\n",
       "      <th>last_review</th>\n",
       "      <th>reviews_per_month</th>\n",
       "      <th>calculated_host_listings_count</th>\n",
       "      <th>availability_365</th>\n",
       "    </tr>\n",
       "  </thead>\n",
       "  <tbody>\n",
       "    <tr>\n",
       "      <th>0</th>\n",
       "      <td>44077</td>\n",
       "      <td>cosy comfortable Irish cottage twin</td>\n",
       "      <td>193005</td>\n",
       "      <td>Teresa</td>\n",
       "      <td>NaN</td>\n",
       "      <td>Dn Laoghaire-Rathdown</td>\n",
       "      <td>53.28995</td>\n",
       "      <td>-6.25813</td>\n",
       "      <td>Private room</td>\n",
       "      <td>58</td>\n",
       "      <td>3</td>\n",
       "      <td>227</td>\n",
       "      <td>2020-03-06</td>\n",
       "      <td>1.97</td>\n",
       "      <td>3</td>\n",
       "      <td>138</td>\n",
       "    </tr>\n",
       "    <tr>\n",
       "      <th>1</th>\n",
       "      <td>85148</td>\n",
       "      <td>Habitación en Dublín Double room</td>\n",
       "      <td>466111</td>\n",
       "      <td>Don</td>\n",
       "      <td>NaN</td>\n",
       "      <td>South Dublin</td>\n",
       "      <td>53.30110</td>\n",
       "      <td>-6.31992</td>\n",
       "      <td>Private room</td>\n",
       "      <td>30</td>\n",
       "      <td>1</td>\n",
       "      <td>1</td>\n",
       "      <td>2019-05-11</td>\n",
       "      <td>0.06</td>\n",
       "      <td>1</td>\n",
       "      <td>300</td>\n",
       "    </tr>\n",
       "    <tr>\n",
       "      <th>2</th>\n",
       "      <td>85156</td>\n",
       "      <td>Cosy Comfortable Irish Cottage  1 Double Bed</td>\n",
       "      <td>193005</td>\n",
       "      <td>Teresa</td>\n",
       "      <td>NaN</td>\n",
       "      <td>Dn Laoghaire-Rathdown</td>\n",
       "      <td>53.29178</td>\n",
       "      <td>-6.25618</td>\n",
       "      <td>Private room</td>\n",
       "      <td>56</td>\n",
       "      <td>3</td>\n",
       "      <td>182</td>\n",
       "      <td>2020-03-09</td>\n",
       "      <td>1.61</td>\n",
       "      <td>3</td>\n",
       "      <td>239</td>\n",
       "    </tr>\n",
       "  </tbody>\n",
       "</table>\n",
       "</div>"
      ],
      "text/plain": [
       "      id                                          name  host_id host_name  \\\n",
       "0  44077           cosy comfortable Irish cottage twin   193005    Teresa   \n",
       "1  85148              Habitación en Dublín Double room   466111       Don   \n",
       "2  85156  Cosy Comfortable Irish Cottage  1 Double Bed   193005    Teresa   \n",
       "\n",
       "   neighbourhood_group          neighbourhood  latitude  longitude  \\\n",
       "0                  NaN  Dn Laoghaire-Rathdown  53.28995   -6.25813   \n",
       "1                  NaN           South Dublin  53.30110   -6.31992   \n",
       "2                  NaN  Dn Laoghaire-Rathdown  53.29178   -6.25618   \n",
       "\n",
       "      room_type  price  minimum_nights  number_of_reviews last_review  \\\n",
       "0  Private room     58               3                227  2020-03-06   \n",
       "1  Private room     30               1                  1  2019-05-11   \n",
       "2  Private room     56               3                182  2020-03-09   \n",
       "\n",
       "   reviews_per_month  calculated_host_listings_count  availability_365  \n",
       "0               1.97                               3               138  \n",
       "1               0.06                               1               300  \n",
       "2               1.61                               3               239  "
      ]
     },
     "execution_count": 12,
     "metadata": {},
     "output_type": "execute_result"
    }
   ],
   "source": [
    "list_2020.head(3)"
   ]
  },
  {
   "cell_type": "code",
   "execution_count": 13,
   "metadata": {},
   "outputs": [
    {
     "data": {
      "text/html": [
       "<div>\n",
       "<style scoped>\n",
       "    .dataframe tbody tr th:only-of-type {\n",
       "        vertical-align: middle;\n",
       "    }\n",
       "\n",
       "    .dataframe tbody tr th {\n",
       "        vertical-align: top;\n",
       "    }\n",
       "\n",
       "    .dataframe thead th {\n",
       "        text-align: right;\n",
       "    }\n",
       "</style>\n",
       "<table border=\"1\" class=\"dataframe\">\n",
       "  <thead>\n",
       "    <tr style=\"text-align: right;\">\n",
       "      <th></th>\n",
       "      <th>listing_id</th>\n",
       "      <th>date</th>\n",
       "      <th>available</th>\n",
       "      <th>price</th>\n",
       "      <th>adjusted_price</th>\n",
       "      <th>minimum_nights</th>\n",
       "      <th>maximum_nights</th>\n",
       "    </tr>\n",
       "  </thead>\n",
       "  <tbody>\n",
       "    <tr>\n",
       "      <th>0</th>\n",
       "      <td>1341827</td>\n",
       "      <td>2019-08-29</td>\n",
       "      <td>f</td>\n",
       "      <td>$58.00</td>\n",
       "      <td>$58.00</td>\n",
       "      <td>2</td>\n",
       "      <td>8</td>\n",
       "    </tr>\n",
       "    <tr>\n",
       "      <th>1</th>\n",
       "      <td>44077</td>\n",
       "      <td>2019-08-29</td>\n",
       "      <td>t</td>\n",
       "      <td>$55.00</td>\n",
       "      <td>$55.00</td>\n",
       "      <td>3</td>\n",
       "      <td>60</td>\n",
       "    </tr>\n",
       "    <tr>\n",
       "      <th>2</th>\n",
       "      <td>44077</td>\n",
       "      <td>2019-08-30</td>\n",
       "      <td>f</td>\n",
       "      <td>$55.00</td>\n",
       "      <td>$55.00</td>\n",
       "      <td>3</td>\n",
       "      <td>60</td>\n",
       "    </tr>\n",
       "  </tbody>\n",
       "</table>\n",
       "</div>"
      ],
      "text/plain": [
       "   listing_id        date available   price adjusted_price  minimum_nights  \\\n",
       "0     1341827  2019-08-29         f  $58.00         $58.00               2   \n",
       "1       44077  2019-08-29         t  $55.00         $55.00               3   \n",
       "2       44077  2019-08-30         f  $55.00         $55.00               3   \n",
       "\n",
       "   maximum_nights  \n",
       "0               8  \n",
       "1              60  \n",
       "2              60  "
      ]
     },
     "execution_count": 13,
     "metadata": {},
     "output_type": "execute_result"
    }
   ],
   "source": [
    "cal_2019.head(3)"
   ]
  },
  {
   "cell_type": "code",
   "execution_count": 14,
   "metadata": {},
   "outputs": [],
   "source": [
    "## It is possible to see that many homes were listed repadeadely, to compare prices, the duplicated values will be removed\n",
    "df_2019 = cal_2019.drop_duplicates(subset='listing_id', keep=\"first\").copy()\n",
    "df_2020 = cal_2020.drop_duplicates(subset='listing_id', keep=\"first\").copy()\n",
    "df_2019.dropna(subset=['price'], inplace=True)\n",
    "df_2020.dropna(subset=['price'], inplace=True)\n",
    "df_2019.drop(['adjusted_price', 'minimum_nights' , 'maximum_nights'], inplace=True, axis=1)\n",
    "df_2020.drop(['adjusted_price', 'minimum_nights' , 'maximum_nights'], inplace=True, axis=1)"
   ]
  },
  {
   "cell_type": "code",
   "execution_count": 15,
   "metadata": {},
   "outputs": [],
   "source": [
    "## Get just the prices from 2019 and 2020\n",
    "prices = df_2019.merge(df_2020, how='left', on='listing_id')\n",
    "prices = prices.dropna()\n",
    "def get_price(s):\n",
    "    ''' Basic fucntion to get the price as float\n",
    "    Input string\n",
    "    Output Float\n",
    "    '''\n",
    "    s = s.split('$')[1:]\n",
    "    return float(''.join(s[0].split(',')))\n",
    "\n",
    "prices.price_x = prices.price_x.apply(get_price)\n",
    "prices.price_y = prices.price_y.apply(get_price)"
   ]
  },
  {
   "cell_type": "code",
   "execution_count": 16,
   "metadata": {},
   "outputs": [
    {
     "data": {
      "text/html": [
       "<div>\n",
       "<style scoped>\n",
       "    .dataframe tbody tr th:only-of-type {\n",
       "        vertical-align: middle;\n",
       "    }\n",
       "\n",
       "    .dataframe tbody tr th {\n",
       "        vertical-align: top;\n",
       "    }\n",
       "\n",
       "    .dataframe thead th {\n",
       "        text-align: right;\n",
       "    }\n",
       "</style>\n",
       "<table border=\"1\" class=\"dataframe\">\n",
       "  <thead>\n",
       "    <tr style=\"text-align: right;\">\n",
       "      <th></th>\n",
       "      <th>listing_id</th>\n",
       "      <th>date_x</th>\n",
       "      <th>available_x</th>\n",
       "      <th>price_x</th>\n",
       "      <th>date_y</th>\n",
       "      <th>available_y</th>\n",
       "      <th>price_y</th>\n",
       "    </tr>\n",
       "  </thead>\n",
       "  <tbody>\n",
       "    <tr>\n",
       "      <th>1</th>\n",
       "      <td>44077</td>\n",
       "      <td>2019-08-29</td>\n",
       "      <td>t</td>\n",
       "      <td>55.0</td>\n",
       "      <td>2020-08-28</td>\n",
       "      <td>f</td>\n",
       "      <td>60.0</td>\n",
       "    </tr>\n",
       "    <tr>\n",
       "      <th>2</th>\n",
       "      <td>261248</td>\n",
       "      <td>2019-08-29</td>\n",
       "      <td>f</td>\n",
       "      <td>36.0</td>\n",
       "      <td>2020-08-28</td>\n",
       "      <td>f</td>\n",
       "      <td>38.0</td>\n",
       "    </tr>\n",
       "    <tr>\n",
       "      <th>3</th>\n",
       "      <td>266654</td>\n",
       "      <td>2019-08-29</td>\n",
       "      <td>f</td>\n",
       "      <td>35.0</td>\n",
       "      <td>2020-08-28</td>\n",
       "      <td>f</td>\n",
       "      <td>31.0</td>\n",
       "    </tr>\n",
       "    <tr>\n",
       "      <th>4</th>\n",
       "      <td>266856</td>\n",
       "      <td>2019-08-29</td>\n",
       "      <td>f</td>\n",
       "      <td>36.0</td>\n",
       "      <td>2020-08-28</td>\n",
       "      <td>f</td>\n",
       "      <td>38.0</td>\n",
       "    </tr>\n",
       "    <tr>\n",
       "      <th>6</th>\n",
       "      <td>85148</td>\n",
       "      <td>2019-08-29</td>\n",
       "      <td>f</td>\n",
       "      <td>30.0</td>\n",
       "      <td>2020-08-28</td>\n",
       "      <td>f</td>\n",
       "      <td>30.0</td>\n",
       "    </tr>\n",
       "  </tbody>\n",
       "</table>\n",
       "</div>"
      ],
      "text/plain": [
       "   listing_id      date_x available_x  price_x      date_y available_y  \\\n",
       "1       44077  2019-08-29           t     55.0  2020-08-28           f   \n",
       "2      261248  2019-08-29           f     36.0  2020-08-28           f   \n",
       "3      266654  2019-08-29           f     35.0  2020-08-28           f   \n",
       "4      266856  2019-08-29           f     36.0  2020-08-28           f   \n",
       "6       85148  2019-08-29           f     30.0  2020-08-28           f   \n",
       "\n",
       "   price_y  \n",
       "1     60.0  \n",
       "2     38.0  \n",
       "3     31.0  \n",
       "4     38.0  \n",
       "6     30.0  "
      ]
     },
     "execution_count": 16,
     "metadata": {},
     "output_type": "execute_result"
    }
   ],
   "source": [
    "prices.head()"
   ]
  },
  {
   "cell_type": "markdown",
   "metadata": {},
   "source": [
    "Understand if properties prices changes during 2020"
   ]
  },
  {
   "cell_type": "code",
   "execution_count": 19,
   "metadata": {},
   "outputs": [
    {
     "data": {
      "image/png": "[encoded data removed]",
      "text/plain": [
       "<Figure size 460.8x316.8 with 1 Axes>"
      ]
     },
     "metadata": {
      "needs_background": "light"
     },
     "output_type": "display_data"
    }
   ],
   "source": [
    "# Calculate repeated measures T-test in the prices 2019, 2010\n",
    "t_test, p = stats.ttest_rel(prices.price_x.values ,prices.price_y.values )\n",
    "\n",
    "#plot a sample of the data\n",
    "sample_df = prices.sample(frac=0.5, replace=True, random_state=1)\n",
    "plt.figure()\n",
    "bins = np.arange(0, sample_df.price_x.max()+10, 5)\n",
    "plt.hist(sample_df.price_x.values, bins, alpha=0.5, label='2019')\n",
    "plt.hist(sample_df.price_y.values, bins, alpha=0.5, label='2020')\n",
    "plt.legend(loc='upper right')\n",
    "plt.xlabel('Prices $', fontsize=12)\n",
    "plt.ylabel('Frequency', fontsize=12)\n",
    "plt.title('Airbnb rent prices Dublin Aug 2019 and 2020', fontsize=12)\n",
    "txt = f'Histogram of prices in listed airbnb properties in Dublin from 2019 to 2020.\\n\\nRepeated measure t-test showed no difference: {t_test:.2f}, p({p:.4f})'\n",
    "plt.text(250, -80, txt, ha='center',fontsize=12 )\n",
    "plt.xlim((0, 500));\n",
    "plt.show()"
   ]
  },
  {
   "cell_type": "markdown",
   "metadata": {},
   "source": [
    "To repeat the same analysis to different type of properties, the different types need to be infered form the description"
   ]
  },
  {
   "cell_type": "code",
   "execution_count": null,
   "metadata": {},
   "outputs": [],
   "source": [
    "list_2019.head(3)"
   ]
  },
  {
   "cell_type": "markdown",
   "metadata": {},
   "source": [
    "**The objective is to get the different prices for:**\n",
    "\n",
    "        * Full apartment/house\n",
    "        * Single room\n",
    "        * Flat\n",
    "        * Double room\n"
   ]
  },
  {
   "cell_type": "code",
   "execution_count": null,
   "metadata": {},
   "outputs": [],
   "source": [
    "#Lets first check the number of missing values in both listing datasets\n",
    "list_2019.isna().sum()"
   ]
  },
  {
   "cell_type": "code",
   "execution_count": null,
   "metadata": {},
   "outputs": [],
   "source": [
    "#Drop na from names\n",
    "list_2019.dropna(subset=['name'], inplace=True)\n",
    "list_2020.dropna(subset=['name'], inplace=True)"
   ]
  },
  {
   "cell_type": "code",
   "execution_count": null,
   "metadata": {},
   "outputs": [],
   "source": [
    "#Create a new columns with the splitted words from name\n",
    "list_2019['name_list'] = list_2019.name.apply(lambda x: x.split())\n",
    "list_2020['name_list'] = list_2020.name.apply(lambda x: x.split())"
   ]
  },
  {
   "cell_type": "code",
   "execution_count": null,
   "metadata": {},
   "outputs": [],
   "source": [
    "def get_sub_df(df, home_type):\n",
    "    '''Function that return ids of properties that have the word in the name'''\n",
    "    idx = []\n",
    "    for i, names in enumerate(df.name_list):\n",
    "        try:\n",
    "            if home_type in names:\n",
    "                idx.append(i)\n",
    "        except:\n",
    "            continue\n",
    "    if len(idx) == 0:\n",
    "        print(f'Was not possible to get idx for {home_type}')\n",
    "        return \n",
    "    return df.iloc[idx]"
   ]
  },
  {
   "cell_type": "code",
   "execution_count": null,
   "metadata": {},
   "outputs": [],
   "source": [
    "#Get Ids for different types of properties 2019\n",
    "flat_2019 = get_sub_df(list_2019, 'Flat')\n",
    "single_2019 = get_sub_df(list_2019, 'Single')\n",
    "double_2019 = get_sub_df(list_2019, 'Double')\n",
    "full_2019 = get_sub_df(list_2019, 'Full')\n",
    "\n",
    "#Get Ids for different types of properties 2020\n",
    "flat_2020 = get_sub_df(list_2020, 'Flat')\n",
    "single_2020 = get_sub_df(list_2020,'Single')\n",
    "double_2020 = get_sub_df(list_2020, 'Double')\n",
    "full_2020 = get_sub_df(list_2020, 'Full')"
   ]
  },
  {
   "cell_type": "code",
   "execution_count": null,
   "metadata": {},
   "outputs": [],
   "source": [
    "full_2020.head(3)"
   ]
  },
  {
   "cell_type": "code",
   "execution_count": null,
   "metadata": {},
   "outputs": [],
   "source": [
    "#Check if there was change in one of the categories:\n",
    "df_list_2019 = [flat_2019, single_2019, double_2019, full_2019]\n",
    "df_list_2020 = [flat_2020, single_2020, double_2020, full_2020]\n",
    "names = ['flats', 'single rooms', 'double rooms', 'full house/apartment']\n",
    "\n",
    "fig, ax = plt.subplots(2,2, figsize = (12,8))\n",
    "axis = ax.flatten()\n",
    "for i in range(0,4):\n",
    "    plt.sca(axis[i])\n",
    "    bins = np.arange(0, df_list_2019[i].price.max()+10, 5)\n",
    "    plt.hist(df_list_2019[i].price.values, bins, alpha=0.5, label='2019')\n",
    "    plt.hist(df_list_2020[i].price.values, bins, alpha=0.5, label='2020')\n",
    "    plt.legend(loc='upper right')\n",
    "    plt.xlabel('Prices $', fontsize=10)\n",
    "    plt.ylabel('Frequency', fontsize=10)\n",
    "    plt.title(f'Airbnb {names[i]} prices Dublin Aug 2019 and 2020', fontsize=10)\n",
    "    plt.xlim((0, 400));\n",
    "plt.tight_layout()    "
   ]
  },
  {
   "cell_type": "code",
   "execution_count": null,
   "metadata": {},
   "outputs": [],
   "source": [
    "# Calculate repeated measures T-test in the prices 2019, 2010\n",
    "t_tests = []\n",
    "mark=0\n",
    "for n_19, n_20 in zip(df_list_2019, df_list_2020):\n",
    "    t, p = (stats.ttest_ind(n_19.price.values,n_20.price.values))\n",
    "    if p <=0.05:\n",
    "        t_tests.append((t,p))\n",
    "if not mark:\n",
    "    print('No difference was observed in t-test from 2019 and 2020 in none of the groups.')"
   ]
  },
  {
   "cell_type": "markdown",
   "metadata": {},
   "source": [
    "**Lastly, to understand how Airbnb business could affect house marketing in Dublin, the full houses and apartments will be considered.**\n"
   ]
  },
  {
   "cell_type": "code",
   "execution_count": null,
   "metadata": {},
   "outputs": [],
   "source": [
    "print(f'The amount of full homes listed in Dublin in 2019 was {len(full_2019)} and in 2020 was {len(full_2020)}. Based on \\nwe \\\n",
    "this data we can conclude that airbnb has no effect in the Dublin renting crisis.')"
   ]
  },
  {
   "cell_type": "markdown",
   "metadata": {},
   "source": [
    "## STAGE ONE – DETERMINE BUSINESS OBJECTIVES\n",
    "\n",
    "The first stage of the CRISP-DM process is to understand what you want to accomplish from a business perspective. Your organisation may have competing objectives and constraints that must be properly balanced. The goal of this stage of the process is to uncover important factors that could influence the outcome of the project. Neglecting this step can mean that a great deal of effort is put into producing the right answers to the wrong questions.\n",
    "What are the desired outputs of the project?\n",
    "\n",
    "    Set objectives – This means describing your primary objective from a business perspective. There may also be other related questions that you would like to address. For example, your primary goal might be to keep current customers by predicting when they are prone to move to a competitor. Related business questions might be “Does the channel used affect whether customers stay or go?” or “Will lower ATM fees significantly reduce the number of high-value customers who leave?”\n",
    "    Produce project plan – Here you’ll describe the plan for achieving the data mining and business goals. The plan should specify the steps to be performed during the rest of the project, including the initial selection of tools and techniques.\n",
    "    Business success criteria – Here you’ll lay out the criteria that you’ll use to determine whether the project has been successful from the business point of view. These should ideally be specific and measurable, for example reduction of customer churn to a certain level, however sometimes it might be necessary to have more subjective criteria such as “give useful insights into the relationships.” If this is the case then it needs to be clear who it is that makes the subjective judgment.\n",
    "\n",
    "### Assess the current situation\n",
    "\n",
    "This involves more detailed fact-finding about all of the resources, constraints, assumptions and other factors that you’ll need to consider when determining your data analysis goal and project plan.\n",
    "\n",
    "    Inventory of resources – List the resources available to the project including:\n",
    "        Personnel (business experts, data experts, technical support, data mining experts)\n",
    "        Data (fixed extracts, access to live, warehoused, or operational data)\n",
    "        Computing resources (hardware platforms)\n",
    "        Software (data mining tools, other relevant software)\n",
    "    Requirements, assumptions and constraints – List all requirements of the project including the schedule of completion, the required comprehensibility and quality of results, and any data security concerns as well as any legal issues. Make sure that you are allowed to use the data. List the assumptions made by the project. These may be assumptions about the data that can be verified during data mining, but may also include non-verifiable assumptions about the business related to the project. It is particularly important to list the latter if they will affect the validity of the results. List the constraints on the project. These may be constraints on the availability of resources, but may also include technological constraints such as the size of data set that it is practical to use for modelling.\n",
    "    Risks and contingencies – List the risks or events that might delay the project or cause it to fail. List the corresponding contingency plans – what action will you take if these risks or events take place?\n",
    "    Terminology – Compile a glossary of terminology relevant to the project. This will generally have two components:\n",
    "        A glossary of relevant business terminology, which forms part of the business understanding available to the project. Constructing this glossary is a useful “knowledge elicitation” and education exercise.\n",
    "        A glossary of data mining terminology, illustrated with examples relevant to the business problem in question.\n",
    "    Costs and benefits – Construct a cost-benefit analysis for the project which compares the costs of the project with the potential benefits to the business if it is successful. This comparison should be as specific as possible. For example, you should use financial measures in a commercial situation. \n",
    "\n",
    "### Determine data mining goals\n",
    "\n",
    "A business goal states objectives in business terminology. A data mining goal states project objectives in technical terms. For example, the business goal might be “Increase catalogue sales to existing customers.” A data mining goal might be “Predict how many widgets a customer will buy, given their purchases over the past three years, demographic information (age, salary, city, etc.), and the price of the item.” \n",
    "\n",
    "    Business success criteria  – describe the intended outputs of the project that enable the achievement of the business objectives.\n",
    "    Data mining success criteria – define the criteria for a successful outcome to the project in technical terms—for example, a certain level of predictive accuracy or a propensity-to-purchase profile with a given degree of “lift.” As with business success criteria, it may be necessary to describe these in subjective terms, in which case the person or persons making the subjective judgment should be identified. \n",
    "\n",
    "### Produce project plan\n",
    "\n",
    "Describe the intended plan for achieving the data mining goals and thereby achieving the business goals. Your plan should specify the steps to be performed during the rest of the project, including the initial selection of tools and techniques. \n",
    "\n",
    "    Project plan – List the stages to be executed in the project, together with their duration, resources required, inputs, outputs, and dependencies. Where possible, try and make explicit the large-scale iterations in the data mining process, for example, repetitions of the modelling and evaluation phases. As part of the project plan, it is also important to analyze dependencies between time schedule and risks. Mark results of these analyses explicitly in the project plan, ideally with actions and recommendations if the risks are manifested. Decide at this point which evaluation strategy will be used in the evaluation phase. Your project plan will be a dynamic document. At the end of each phase you’ll review progress and achievements and update the project plan accordingly. Specific review points for these updates should be part of the project plan.\n",
    "    Initial assessment of tools and techniques – At the end of the first phase you should undertake an initial assessment of tools and techniques. Here, for example, you select a data mining tool that supports various methods for different stages of the process. It is important to assess tools and techniques early in the process since the selection of tools and techniques may influence the entire project.\n",
    "\n",
    "## STAGE TWO – DATA UNDERSTANDING\n",
    "\n",
    "The second stage of the CRISP-DM process requires you to acquire the data listed in the project resources. This initial collection includes data loading, if this is necessary for data understanding. For example, if you use a specific tool for data understanding, it makes perfect sense to load your data into this tool. If you acquire multiple data sources then you need to consider how and when you’re going to integrate these.\n",
    "\n",
    "    Initial data collection report – List the data sources acquired together with their locations, the methods used to acquire them and any problems encountered. Record problems you encountered and any resolutions achieved. This will help both with future replication of this project and with the execution of similar future projects.\n",
    "\n",
    "### Describe data \n",
    "\n",
    "Examine the “gross” or “surface” properties of the acquired data and report on the results.\n",
    "\n",
    "    Data description report – Describe the data that has been acquired including its format, its quantity (for example, the number of records and fields in each table), the identities of the fields and any other surface features which have been discovered. Evaluate whether the data acquired satisfies your requirements.\n",
    "\n",
    "### Explore data\n",
    "\n",
    "During this stage you’ll address data mining questions using querying, data visualization and reporting techniques. These may include:\n",
    "\n",
    "    Distribution of key attributes (for example, the target attribute of a prediction task)\n",
    "    Relationships between pairs or small numbers of attributes\n",
    "    Results of simple aggregations\n",
    "    Properties of significant sub-populations\n",
    "    Simple statistical analyses\n",
    "\n",
    "These analyses may directly address your data mining goals. They may also contribute to or refine the data description and quality reports, and feed into the transformation and other data preparation steps needed for further analysis. \n",
    "\n",
    "    Data exploration report – Describe results of your data exploration, including first findings or initial hypothesis and their impact on the remainder of the project. If appropriate you could include graphs and plots here to indicate data characteristics that suggest further examination of interesting data subsets.\n",
    "\n",
    "### Verify data quality\n",
    "\n",
    "Examine the quality of the data, addressing questions such as:\n",
    "\n",
    "    Is the data complete (does it cover all the cases required)?\n",
    "    Is it correct, or does it contain errors and, if there are errors, how common are they?\n",
    "    Are there missing values in the data? If so, how are they represented, where do they occur, and how common are they?\n",
    "\n",
    "### Data quality report\n",
    "\n",
    "List the results of the data quality verification. If quality problems exist, suggest possible solutions. Solutions to data quality problems generally depend heavily on both data and business knowledge.\n",
    "STAGE THREE – DATA PREPARATION\n",
    "Select your data \n",
    "\n",
    "This is the stage of the project where you decide on the data that you’re going to use for analysis. The criteria you might use to make this decision include the relevance of the data to your data mining goals, the quality of the data, and also technical constraints such as limits on data volume or data types. Note that data selection covers selection of attributes (columns) as well as selection of records (rows) in a table.\n",
    "\n",
    "    Rationale for inclusion/exclusion – List the data to be included/excluded and the reasons for these decisions.\n",
    "\n",
    "### Clean your data\n",
    "\n",
    "This task involves raise the data quality to the level required by the analysis techniques that you’ve selected. This may involve selecting clean subsets of the data, the insertion of suitable defaults, or more ambitious techniques such as the estimation of missing data by modelling.\n",
    "\n",
    "    Data cleaning report – Describe what decisions and actions you took to address data quality problems. Consider any transformations of the data made for cleaning purposes and their possible impact on the analysis results.\n",
    "\n",
    "### Construct required data\n",
    "\n",
    "This task includes constructive data preparation operations such as the production of derived attributes or entire new records, or transformed values for existing attributes.\n",
    "\n",
    "    Derived attributes – These are new attributes that are constructed from one or more existing attributes in the same record, for example you might use the variables of length and width to calculate a new variable of area.\n",
    "    Generated records – Here you describe the creation of any completely new records. For example you might need to create records for customers who made no purchase during the past year. There was no reason to have such records in the raw data, but for modelling purposes it might make sense to explicitly represent the fact that particular customers made zero purchases.\n",
    "\n",
    "### Integrate data\n",
    "\n",
    "These are methods whereby information is combined from multiple databases, tables or records to create new records or values.\n",
    "\n",
    "    Merged data – Merging tables refers to joining together two or more tables that have different information about the same objects. For example a retail chain might have one table with information about each store’s general characteristics (e.g., floor space, type of mall), another table with summarised sales data (e.g., profit, percent change in sales from previous year), and another with information about the demographics of the surrounding area. Each of these tables contains one record for each store. These tables can be merged together into a new table with one record for each store, combining fields from the source tables.\n",
    "    Aggregations – Aggregations refers to operations in which new values are computed by summarising information from multiple records and/or tables. For example, converting a table of customer purchases where there is one record for each purchase into a new table where there is one record for each customer, with fields such as number of purchases, average purchase amount, percent of orders charged to credit card, percent of items under promotion etc.\n",
    "\n",
    "## STAGE FOUR – MODELLING\n",
    "### Select modeling technique\n",
    "\n",
    "As the first step in modelling, you’ll select the actual modelling technique that you’ll be using. Although you may have already selected a tool during the business understanding phase, at this stage you’ll be selecting the specific modelling technique e.g. decision-tree building with C5.0, or neural network generation with back propagation. If multiple techniques are applied, perform this task separately for each technique.\n",
    "\n",
    "    Modelling technique – Document the actual modelling technique that is to be used.\n",
    "    Modelling assumptions – Many modelling techniques make specific assumptions about the data, for example that all attributes have uniform distributions, no missing values allowed, class attribute must be symbolic etc. Record any assumptions made.\n",
    "\n",
    "### Generate test design\n",
    "\n",
    "Before you actually build a model you need to generate a procedure or mechanism to test the model’s quality and validity. For example, in supervised data mining tasks such as classification, it is common to use error rates as quality measures for data mining models. Therefore, you typically separate the dataset into train and test sets, build the model on the train set, and estimate its quality on the separate test set.\n",
    "\n",
    "    Test design – Describe the intended plan for training, testing, and evaluating the models. A primary component of the plan is determining how to divide the available dataset into training, test and validation datasets.\n",
    "\n",
    "### Build model\n",
    "\n",
    "Run the modelling tool on the prepared dataset to create one or more models.\n",
    "\n",
    "    Parameter settings – With any modelling tool there are often a large number of parameters that can be adjusted. List the parameters and their chosen values, along with the rationale for the choice of parameter settings.\n",
    "    Models – These are the actual models produced by the modelling tool, not a report on the models.\n",
    "    Model descriptions – Describe the resulting models, report on the interpretation of the models and document any difficulties encountered with their meanings.\n",
    "\n",
    "### Assess model\n",
    "\n",
    "Interpret the models according to your domain knowledge, your data mining success criteria and your desired test design. Judge the success of the application of modelling and discovery techniques technically, then contact business analysts and domain experts later in order to discuss the data mining results in the business context. This task only considers models, whereas the evaluation phase also takes into account all other results that were produced in the course of the project.\n",
    "\n",
    "At this stage you should rank the models and assess them according to the evaluation criteria. You should take the business objectives and business success criteria into account as far as you can here. In most data mining projects a single technique is applied more than once and data mining results are generated with several different techniques. \n",
    "\n",
    "    Model assessment – Summarise the results of this task, list the qualities of your generated models (e.g.in terms of accuracy) and rank their quality in relation to each other.\n",
    "    Revised parameter settings – According to the model assessment, revise parameter settings and tune them for the next modelling run. Iterate model building and assessment until you strongly believe that you have found the best model(s). Document all such revisions and assessments.\n",
    "\n",
    "## STAGE FIVE – EVALUATION\n",
    "Evaluate your results\n",
    "\n",
    "Previous evaluation steps dealt with factors such as the accuracy and generality of the model. During this step you’ll assesses the degree to which the model meets your business objectives and seek to determine if there is some business reason why this model is deficient. Another option is to test the model(s) on test applications in the real application, if time and budget constraints permit. The evaluation phase also involves assessing any other data mining results you’ve generated. Data mining results involve models that are necessarily related to the original business objectives and all other findings that are not necessarily related to the original business objectives, but might also unveil additional challenges, information, or hints for future directions.\n",
    "\n",
    "    Assessment of data mining results – Summarise assessment results in terms of business success criteria, including a final statement regarding whether the project already meets the initial business objectives.\n",
    "    Approved models – After assessing models with respect to business success criteria, the generated models that meet the selected criteria become the approved models.\n",
    "\n",
    "### Review process\n",
    "\n",
    "At this point, the resulting models appear to be satisfactory and to satisfy business needs. It is now appropriate for you to do a more thorough review of the data mining engagement in order to determine if there is any important factor or task that has somehow been overlooked. This review also covers quality assurance issues—for example: did we correctly build the model? Did we use only the attributes that we are allowed to use and that are available for future analyses?\n",
    "\n",
    "    Review of process – Summarise the process review and highlight activities that have been missed and those that should be repeated.\n",
    "\n",
    "### Determine next steps\n",
    "\n",
    "Depending on the results of the assessment and the process review, you now decide how to proceed.Do you finish this project and move on to deployment, initiate further iterations, or set up new data mining projects? You should also take stock of your remaining resources and budget as this may influence your decisions.\n",
    "\n",
    "    List of possible actions – List the potential further actions, along with the reasons for and against each option.\n",
    "    Decision – Describe the decision as to how to proceed, along with the rationale."
   ]
  },
  {
   "cell_type": "code",
   "execution_count": null,
   "metadata": {},
   "outputs": [],
   "source": [
    "cal_2019.head()"
   ]
  },
  {
   "cell_type": "code",
   "execution_count": null,
   "metadata": {},
   "outputs": [],
   "source": [
    "list_2020.head()"
   ]
  },
  {
   "cell_type": "code",
   "execution_count": null,
   "metadata": {},
   "outputs": [],
   "source": [
    "fig = plt.figure()\n",
    "ax = fig.add_axes([.125,.125,.775,.775])\n",
    "bins = numpy.arange(0, cal_2019['maximum_nights'].max() + 2 ,2)\n",
    "ax.hist(data=cal_2019, x='maximum_nights', bins=bins)\n",
    "plt.xlim((0,370))\n",
    "plt.ylim((0,260000))\n",
    "plt.xlabel('Number of days homes were disponible');\n",
    "plt.ylabel('Counts');"
   ]
  },
  {
   "cell_type": "code",
   "execution_count": null,
   "metadata": {},
   "outputs": [],
   "source": [
    "# t, p = ttest_ind(a, b, equal_var=False)"
   ]
  },
  {
   "cell_type": "code",
   "execution_count": null,
   "metadata": {},
   "outputs": [],
   "source": [
    "cal_2019.drop_duplicates(subset='listing_id', keep=\"first\", inplace=True)\n",
    "cal_2020.drop_duplicates(subset='listing_id', keep=\"first\", inplace=True)\n",
    "cal_2019.dropna(subset=['price'], inplace=True)\n",
    "cal_2020.dropna(subset=['price'], inplace=True)\n",
    "cal_2019.drop(['adjusted_price', 'minimum_nights' , 'maximum_nights'], inplace=True, axis=1)\n",
    "cal_2020.drop(['adjusted_price', 'minimum_nights' , 'maximum_nights'], inplace=True, axis=1)\n",
    "prices = cal_2019.merge(cal_2020, how='left', on='listing_id')\n",
    "prices = prices.dropna()\n",
    "def get_price(s):\n",
    "    s = s.split('$')[1:]\n",
    "    return float(''.join(s[0].split(',')))"
   ]
  },
  {
   "cell_type": "code",
   "execution_count": null,
   "metadata": {},
   "outputs": [],
   "source": []
  },
  {
   "cell_type": "code",
   "execution_count": null,
   "metadata": {},
   "outputs": [],
   "source": []
  },
  {
   "cell_type": "code",
   "execution_count": null,
   "metadata": {},
   "outputs": [],
   "source": []
  },
  {
   "cell_type": "code",
   "execution_count": null,
   "metadata": {},
   "outputs": [],
   "source": []
  },
  {
   "cell_type": "code",
   "execution_count": null,
   "metadata": {},
   "outputs": [],
   "source": [
    "plt.figure()\n",
    "plt.subplot(1,2,1)\n",
    "bins = np.arange(0, prices.price_x.max()+10, 10)\n",
    "plt.hist(data = prices, x='price_x', bins=bins);"
   ]
  },
  {
   "cell_type": "code",
   "execution_count": null,
   "metadata": {},
   "outputs": [],
   "source": [
    "mean_2019 = prices.price_x.mean()\n",
    "mean_2020 = prices.price_y.mean()"
   ]
  },
  {
   "cell_type": "code",
   "execution_count": null,
   "metadata": {},
   "outputs": [],
   "source": [
    "print(f'Airbnb Dublin prices 2019/2020')\n",
    "print(f'mean of prices 2019 ${prices.price_x.mean():.2f}\\ std ${prices.price_x.std():.2f}')\n",
    "print(f'mean of prices 2020 ${prices.price_y.mean():.2f}\\ std ${prices.price_y.std():.2f}')\n",
    "print(f'Median of prices 2019: ${prices.price_x.median():.2f}\\ 2020: ${prices.price_x.median():.2f}')"
   ]
  },
  {
   "cell_type": "code",
   "execution_count": null,
   "metadata": {},
   "outputs": [],
   "source": [
    "list_2019.head()"
   ]
  },
  {
   "cell_type": "code",
   "execution_count": null,
   "metadata": {},
   "outputs": [],
   "source": [
    "cal_2019.head()"
   ]
  },
  {
   "cell_type": "code",
   "execution_count": null,
   "metadata": {},
   "outputs": [],
   "source": []
  }
 ],
 "metadata": {
  "kernelspec": {
   "display_name": "Python 3",
   "language": "python",
   "name": "python3"
  },
  "language_info": {
   "codemirror_mode": {
    "name": "ipython",
    "version": 3
   },
   "file_extension": ".py",
   "mimetype": "text/x-python",
   "name": "python",
   "nbconvert_exporter": "python",
   "pygments_lexer": "ipython3",
   "version": "3.8.5"
  }
 },
 "nbformat": 4,
 "nbformat_minor": 4
}
